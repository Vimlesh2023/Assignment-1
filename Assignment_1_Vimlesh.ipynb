{
 "cells": [
  {
   "attachments": {},
   "cell_type": "markdown",
   "id": "67ef1b0d",
   "metadata": {},
   "source": [
    "#### 1. In the below elements which of them are values or an expression? e.g.: - values can be integers or strings and expressions will be mathematical operators.\n",
    "* \n",
    "'hello'\n",
    "-87.8\n",
    "- \n",
    "/ \n",
    "+\t\n",
    "6 \n",
    "\n",
    "Ans:- Values = ‘hello’, -87.8, 6.\n",
    "Mathematical Operators = *, -, ?, +.\n",
    "Expression = *, -, ?, +, hello’, -87.8, 6."
   ]
  },
  {
   "attachments": {},
   "cell_type": "markdown",
   "id": "61e3571c",
   "metadata": {},
   "source": [
    "#### 2. What is the difference between string and variable?\n",
    "\n",
    "**Ans:**  String - A string is a continuous set of characters of information that is stored in a variable under quotations.\n",
    "\n",
    "        Variable - Variable or identifier stores different types of information or data in the form of numbers, string, \n",
    "                   lists, and tuples.\n"
   ]
  },
  {
   "attachments": {},
   "cell_type": "markdown",
   "id": "be48cf80",
   "metadata": {},
   "source": [
    "#### 3. Describe three different data types.\n",
    "Ans: There are multiple datatypes like  String,Numeric, Sequence, set, Binary etc.\n",
    "          Numeric - It includes numeric values\n",
    "          Example - a = 5, b = 3.12, c = 4.14i etc.\n",
    "          Types - Int, long, float, complex\n",
    "          \n",
    "          String - Set of characters that are presented in quotations.\n",
    "          Example - Name = \"Hello, my name is vimlesh mishra\"\n",
    "          \n",
    "          Tuple - A tuple is a sequence data type that stores different datatypes like int, float, string, etc.\n",
    "          Example - Tup = (“vimlesh”,2, 43.5)"
   ]
  },
  {
   "cell_type": "raw",
   "id": "a75cc428",
   "metadata": {},
   "source": [
    "4. What is an expression made up of? What do all expressions do?\n",
    "Ans: An expression is made up of variables, operators and operands. Operators are symbols that assign a function and                operands are the values on which the operator acts and variables store the data. Ex - sum = 10 + 20, here, sum is a            variable, 10   and 20 are operands, and ‘+’ is an operator. \n",
    "     All expressions produce some value after being interpreted by python interpreter.\n"
   ]
  },
  {
   "cell_type": "raw",
   "id": "bc087930",
   "metadata": {},
   "source": [
    "5. This assignment statements, like spam = 10. What is the difference between an expression and a statement?\n",
    "Ans:   Expression- An expression is made up of variables, operators and operands. Operators are symbols that assign as                  function and operands are the values on which the operator acts and variables store the data. All expressions produce          some value after being interpreted by python interpreter.\n",
    "\n",
    "        Ex – a = 15 b = 22\n",
    "             Sum = a + b\n",
    "            \n",
    "          Statement- A statement is the smallest executable unit of code that creates a variable or displays a value. Every                          line of code that is written in a programming language is called a statement because all lines are                              executable by the interpreter.\n",
    "          \n",
    "         Ex- Spam = 10\n",
    "             print (Spam)"
   ]
  },
  {
   "cell_type": "raw",
   "id": "a124356d",
   "metadata": {},
   "source": [
    "6. After running the following code, what does the variable bacon\n",
    "contain?\n",
    "\n",
    "bacon = 22\n",
    "\n",
    "bacon + 1\n",
    "\n",
    "Ans: After running the code, the variable bacon contains 23. See execution below."
   ]
  },
  {
   "cell_type": "code",
   "execution_count": 2,
   "id": "ea34c88e",
   "metadata": {},
   "outputs": [
    {
     "data": {
      "text/plain": [
       "23"
      ]
     },
     "execution_count": 2,
     "metadata": {},
     "output_type": "execute_result"
    }
   ],
   "source": [
    "# Anwer 6). After running the code it contains 22\n",
    "bacon = 22\n",
    "bacon + 1"
   ]
  },
  {
   "cell_type": "raw",
   "id": "d64bdb25",
   "metadata": {},
   "source": [
    "7. What should the values of the following two terms be?\n",
    "\n",
    "'spam' + 'spamspam'\n",
    "\n",
    "'spam' * 3\n",
    "Ans: Both will have same output. see execution below."
   ]
  },
  {
   "cell_type": "code",
   "execution_count": null,
   "id": "242befae",
   "metadata": {},
   "outputs": [
    {
     "data": {
      "text/plain": [
       "'spamspamspam'"
      ]
     },
     "execution_count": 1,
     "metadata": {},
     "output_type": "execute_result"
    }
   ],
   "source": [
    "# Answer 7)-a\n",
    "\"spam\" + \"spamspam\""
   ]
  },
  {
   "cell_type": "code",
   "execution_count": null,
   "id": "96b64b32",
   "metadata": {},
   "outputs": [
    {
     "data": {
      "text/plain": [
       "'spamspamspam'"
      ]
     },
     "execution_count": 2,
     "metadata": {},
     "output_type": "execute_result"
    }
   ],
   "source": [
    "# 7)-b \n",
    "\"spam\"*3"
   ]
  },
  {
   "cell_type": "raw",
   "id": "a5eab9bf",
   "metadata": {},
   "source": [
    "8. Why is eggs a valid variable name while 100 is invalid?\n",
    "\n",
    "Ans:       As per python,Variable names cannot begin with a number. The python rules for naming a variable are :-\n",
    "           Variable name must start with a letter or the underscore character.\n",
    "           Variable name cannot start with a number.\n",
    "           Variable name can only contain alpha-numeric characters and underscores (A-z, 0-9, & _ ).\n",
    "           Variable names are case-sensitive (name, iNEURON and ineuron are three different variables).\n",
    "           The reserved words(keywords) cannot be used naming the variable.\n",
    " \n",
    "         examples are below."
   ]
  },
  {
   "cell_type": "code",
   "execution_count": 6,
   "id": "188decf4",
   "metadata": {},
   "outputs": [
    {
     "name": "stdout",
     "output_type": "stream",
     "text": [
      "10\n"
     ]
    }
   ],
   "source": [
    "# Answer 8).\n",
    "eggs = 10\n",
    "print(eggs)"
   ]
  },
  {
   "cell_type": "code",
   "execution_count": 7,
   "id": "bfe38094",
   "metadata": {},
   "outputs": [
    {
     "ename": "SyntaxError",
     "evalue": "cannot assign to literal (1501535733.py, line 1)",
     "output_type": "error",
     "traceback": [
      "\u001b[1;36m  Input \u001b[1;32mIn [7]\u001b[1;36m\u001b[0m\n\u001b[1;33m    100 = \"eggs\"\u001b[0m\n\u001b[1;37m    ^\u001b[0m\n\u001b[1;31mSyntaxError\u001b[0m\u001b[1;31m:\u001b[0m cannot assign to literal\n"
     ]
    }
   ],
   "source": [
    "# Answer 8).\n",
    "100 = \"eggs\"\n",
    "print(100)"
   ]
  },
  {
   "attachments": {},
   "cell_type": "markdown",
   "id": "f34050bf",
   "metadata": {},
   "source": [
    "#### 9. What three functions can be used to get the integer, floating-point number, or string version of a value?\n",
    "\n",
    "**Ans:** The int(),float(),and str() functions will evaluate to the integer,floating-point number,string version respectively of the value passed to them.\n",
    "\n",
    "See examples below."
   ]
  },
  {
   "attachments": {},
   "cell_type": "markdown",
   "id": "29bf7fde",
   "metadata": {},
   "source": [
    "#### 9. Following are the functions that reepresent integer, float and string\n",
    "   int(10)"
   ]
  },
  {
   "cell_type": "code",
   "execution_count": 2,
   "id": "b7247653",
   "metadata": {},
   "outputs": [
    {
     "data": {
      "text/plain": [
       "15.3"
      ]
     },
     "execution_count": 2,
     "metadata": {},
     "output_type": "execute_result"
    }
   ],
   "source": [
    "float(15.3)"
   ]
  },
  {
   "cell_type": "code",
   "execution_count": 1,
   "id": "4e9bc972",
   "metadata": {},
   "outputs": [
    {
     "data": {
      "text/plain": [
       "'iNEURON'"
      ]
     },
     "execution_count": 1,
     "metadata": {},
     "output_type": "execute_result"
    }
   ],
   "source": [
    "str(\"iNEURON\")"
   ]
  },
  {
   "attachments": {},
   "cell_type": "markdown",
   "id": "ff341216",
   "metadata": {},
   "source": [
    "#### 10. Why does this expression cause an error? How can you fix it?\n",
    "\n",
    "   'I have eaten ' + 99 + ' burritos.'\n",
    "\n",
    "**Ans:** It will show error because string and integer cannot concatenate. We can fix this by converting integer 10 into                 string.\n",
    "\n",
    "See execution below."
   ]
  },
  {
   "cell_type": "code",
   "execution_count": null,
   "id": "2c5e0a67",
   "metadata": {},
   "outputs": [
    {
     "ename": "TypeError",
     "evalue": "can only concatenate str (not \"int\") to str",
     "output_type": "error",
     "traceback": [
      "\u001b[1;31m---------------------------------------------------------------------------\u001b[0m",
      "\u001b[1;31mTypeError\u001b[0m                                 Traceback (most recent call last)",
      "\u001b[1;32mc:\\Users\\Admin\\Downloads\\vertopal.com_Assignment_1.ipynb Cell 4\u001b[0m in \u001b[0;36m<cell line: 1>\u001b[1;34m()\u001b[0m\n\u001b[1;32m----> <a href='vscode-notebook-cell:/c%3A/Users/Admin/Downloads/vertopal.com_Assignment_1.ipynb#W3sZmlsZQ%3D%3D?line=0'>1</a>\u001b[0m \u001b[39m\"\u001b[39;49m\u001b[39mI have eaten\u001b[39;49m\u001b[39m\"\u001b[39;49m \u001b[39m+\u001b[39;49m \u001b[39m99\u001b[39;49m \u001b[39m+\u001b[39m \u001b[39m\"\u001b[39m\u001b[39mburritos\u001b[39m\u001b[39m\"\u001b[39m\n",
      "\u001b[1;31mTypeError\u001b[0m: can only concatenate str (not \"int\") to str"
     ]
    }
   ],
   "source": [
    "# Answer 10)\n",
    "\"I have eaten\" + 99 + \"burritos\""
   ]
  },
  {
   "cell_type": "code",
   "execution_count": 12,
   "id": "71fde417",
   "metadata": {},
   "outputs": [
    {
     "data": {
      "text/plain": [
       "'I have eaten 99 burritos'"
      ]
     },
     "execution_count": 12,
     "metadata": {},
     "output_type": "execute_result"
    }
   ],
   "source": [
    "# Answer 10) We can convert integer to string using double quotes\n",
    "\"I have eaten\" + \" 99 \" + \"burritos\""
   ]
  },
  {
   "cell_type": "code",
   "execution_count": null,
   "id": "550d9a44",
   "metadata": {},
   "outputs": [],
   "source": [
    "                           #ASSIGNMET 1 COMPLETED#"
   ]
  }
 ],
 "metadata": {
  "kernelspec": {
   "display_name": "Python 3 (ipykernel)",
   "language": "python",
   "name": "python3"
  },
  "language_info": {
   "codemirror_mode": {
    "name": "ipython",
    "version": 3
   },
   "file_extension": ".py",
   "mimetype": "text/x-python",
   "name": "python",
   "nbconvert_exporter": "python",
   "pygments_lexer": "ipython3",
   "version": "3.11.3"
  }
 },
 "nbformat": 4,
 "nbformat_minor": 5
}
